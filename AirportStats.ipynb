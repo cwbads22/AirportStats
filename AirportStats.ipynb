{
 "cells": [
  {
   "cell_type": "code",
   "execution_count": 9,
   "id": "714d6ba0-1703-489e-9ef9-00305c34352b",
   "metadata": {},
   "outputs": [],
   "source": [
    "import requests\n",
    "import json"
   ]
  },
  {
   "cell_type": "code",
   "execution_count": 10,
   "id": "c26fe31f-d394-4e94-ba65-9238789805c2",
   "metadata": {},
   "outputs": [],
   "source": [
    "from FlightRadar24.api import FlightRadar24API\n",
    "fr_api = FlightRadar24API()"
   ]
  },
  {
   "cell_type": "code",
   "execution_count": 11,
   "id": "97073a52-60b3-46be-8b44-bb1e25abe26e",
   "metadata": {},
   "outputs": [],
   "source": [
    "hdr = {\"X-API-Key\": \"0993b4210ecc40d0be83933780\"}"
   ]
  },
  {
   "cell_type": "code",
   "execution_count": 12,
   "id": "7714206e-c68a-48aa-a56f-28cc3b22b16f",
   "metadata": {},
   "outputs": [
    {
     "name": "stdout",
     "output_type": "stream",
     "text": [
      "Informações Aeroportuárias\n",
      " Códigos ICAO em:\n",
      " https://airportcodes.aero/-/list-icao-codes\n",
      "\n"
     ]
    },
    {
     "name": "stdin",
     "output_type": "stream",
     "text": [
      "Insira o código ICAO do aeroporto:\n",
      "  SBCT\n"
     ]
    },
    {
     "name": "stdout",
     "output_type": "stream",
     "text": [
      "Airport name:  Curitiba Afonso Pena International Airport SBCT\n",
      "City name:  Curitiba\n",
      "Country:  Brazil\n",
      "METAR:  ['SBCT 121200Z 08004KT 050V110 3000 -RADZ OVC004 11/11 Q1027']\n"
     ]
    }
   ],
   "source": [
    "print(\"Informações Aeroportuárias\\n Códigos ICAO em:\\n https://airportcodes.aero/-/list-icao-codes\\n\")\n",
    "aero = input(\"Insira o código ICAO do aeroporto:\\n \")\n",
    "req = requests.get(f\"https://api.checkwx.com/metar/{aero}\", headers=hdr)\n",
    "\n",
    "test_airport = fr_api.get_airport(aero)\n",
    "cod = test_airport['name']\n",
    "tit = test_airport['code']['icao']\n",
    "cit = test_airport['position']['region']['city']\n",
    "dep = test_airport['position']['country']['name']\n",
    "print('Airport name: ', cod+' '+tit)\n",
    "print('City name: ', cit)\n",
    "print('Country: ', dep)\n",
    "\n",
    "try:\n",
    "    req.raise_for_status()\n",
    "    resp = json.loads(req.text)\n",
    "    \n",
    "    info = resp['data']\n",
    "    print('METAR: ', info)\n",
    "    \n",
    "except requests.exceptions.HTTPError as e:\n",
    "    print(e)"
   ]
  },
  {
   "cell_type": "code",
   "execution_count": null,
   "id": "65abf929-472c-4ffd-af78-62880892a907",
   "metadata": {},
   "outputs": [],
   "source": []
  }
 ],
 "metadata": {
  "kernelspec": {
   "display_name": "Python 3 (ipykernel)",
   "language": "python",
   "name": "python3"
  },
  "language_info": {
   "codemirror_mode": {
    "name": "ipython",
    "version": 3
   },
   "file_extension": ".py",
   "mimetype": "text/x-python",
   "name": "python",
   "nbconvert_exporter": "python",
   "pygments_lexer": "ipython3",
   "version": "3.8.13"
  }
 },
 "nbformat": 4,
 "nbformat_minor": 5
}
